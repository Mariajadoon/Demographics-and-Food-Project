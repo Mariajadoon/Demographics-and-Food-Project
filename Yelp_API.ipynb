{
 "cells": [
  {
   "cell_type": "code",
   "execution_count": 1,
   "metadata": {},
   "outputs": [],
   "source": [
    "# Dependencies and Setup\n",
    "import matplotlib.pyplot as plt\n",
    "import pandas as pd\n",
    "import numpy as np\n",
    "import requests\n",
    "import time\n",
    "import json\n",
    "import openweathermapy.core as owm\n",
    "import csv\n",
    "import yelpapi\n",
    "\n",
    "\n",
    "\n",
    "\n",
    "\n",
    "\n"
   ]
  },
  {
   "cell_type": "code",
   "execution_count": 2,
   "metadata": {},
   "outputs": [
    {
     "data": {
      "text/plain": [
       "array(['Alabama', 'Alaska', 'Arizona', 'Arkansas', 'California',\n",
       "       'Colorado', 'Connecticut', 'Delaware', 'District of Columbia',\n",
       "       'Florida', 'Georgia', 'Hawaii', 'Idaho', 'Illinois', 'Indiana',\n",
       "       'Iowa', 'Kansas', 'Kentucky', 'Louisiana', 'Maine', 'Maryland',\n",
       "       'Massachusetts', 'Michigan', 'Minnesota', 'Mississippi',\n",
       "       'Missouri', 'Montana', 'Nebraska', 'Nevada', 'New Hampshire',\n",
       "       'New Jersey', 'New Mexico', 'New York', 'North Carolina',\n",
       "       'North Dakota', 'Ohio', 'Oklahoma', 'Oregon', 'Pennsylvania',\n",
       "       'Rhode Island', 'South Carolina', 'South Dakota', 'Tennessee',\n",
       "       'Texas', 'Utah', 'Vermont', 'Virginia', 'Washington',\n",
       "       'West Virginia', 'Wisconsin', 'Wyoming', 'Puerto Rico'],\n",
       "      dtype=object)"
      ]
     },
     "execution_count": 2,
     "metadata": {},
     "output_type": "execute_result"
    }
   ],
   "source": [
    "census_pd = pd.read_csv(\"acs2015_census_tract_data.csv\")\n",
    "\n",
    "\n",
    "# Preview the data\n",
    "census_pd.head()\n",
    "\n",
    "census_pd['State'].unique()\n",
    "\n"
   ]
  },
  {
   "cell_type": "code",
   "execution_count": 10,
   "metadata": {},
   "outputs": [
    {
     "name": "stdout",
     "output_type": "stream",
     "text": [
      "Eli's Jerusalem Grill\n",
      "Falafel cafe\n",
      "Delta Blues Hot Tamales\n",
      "Organic Harvest\n",
      "Urban Standard\n",
      "Farm Burger Birmingham\n",
      "Golden Temple Natural Grocery & Cafe\n",
      "Tropicaleo\n",
      "Bitty's Living Kitchen\n",
      "Real & Rosemary\n",
      "Bunch Bakeshop\n",
      "Slice Pizza\n",
      "Ghion Cultural Hall\n",
      "Church Street Coffee and Books\n",
      "Rojo\n",
      "Sprout & Pour\n",
      "Fancy's on Fifth\n",
      "Miami Fusion Cafe\n",
      "Ono Poké\n",
      "Woodlawn Cycle Cafe\n"
     ]
    }
   ],
   "source": [
    "from yelpapi import YelpAPI\n",
    "yelp_api = YelpAPI('clXvdDssfwpiryl9URikQMy0kRfdf8yZBWqPSc4pk-bdiK52Awc7eAQxakB8rv0c_xlMLyU7Saw_In-8dI6UHvIN2HQC739yByp0AV_VMiltc8yIKzLnzlYMUV_aW3Yx')\n",
    "search_results = yelp_api.search_query(term='Vegan', location='Alabama')\n",
    "\n",
    "for business in search_results['businesses']:\n",
    "        \n",
    " print (business['name'])\n",
    "    "
   ]
  }
 ],
 "metadata": {
  "kernelspec": {
   "display_name": "Python 3",
   "language": "python",
   "name": "python3"
  },
  "language_info": {
   "codemirror_mode": {
    "name": "ipython",
    "version": 3
   },
   "file_extension": ".py",
   "mimetype": "text/x-python",
   "name": "python",
   "nbconvert_exporter": "python",
   "pygments_lexer": "ipython3",
   "version": "3.6.5"
  }
 },
 "nbformat": 4,
 "nbformat_minor": 2
}
